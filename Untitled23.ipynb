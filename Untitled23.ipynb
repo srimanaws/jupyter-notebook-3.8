{
 "cells": [
  {
   "cell_type": "code",
   "execution_count": 2,
   "id": "8f6c160f-29f8-4e12-a7bf-2f3314099d37",
   "metadata": {},
   "outputs": [
    {
     "name": "stdin",
     "output_type": "stream",
     "text": [
      "Enter integer 1:  5\n",
      "Enter integer 2:  6\n",
      "Enter integer 3:  7\n",
      "Enter integer 4:  9\n"
     ]
    },
    {
     "name": "stdout",
     "output_type": "stream",
     "text": [
      "Sum of the numbers: 27\n",
      "Average of the numbers: 6.75\n",
      "Product of the numbers: 1890\n",
      "Smallest number: 5\n",
      "Largest number: 9\n"
     ]
    }
   ],
   "source": [
    "# Exercise by sriman\n",
    "# Start by initializing total and product for calculations\n",
    "total = 0\n",
    "product = 1\n",
    "\n",
    "# We haven't received any numbers yet, so we don't know the smallest or largest\n",
    "smallest = None\n",
    "largest = None\n",
    "\n",
    "# We'll loop 4 times to get 4 integers from the user\n",
    "for i in range(4):\n",
    "    # Prompt the user to input a number, using f-strings to make it clear which number we're on\n",
    "    number = int(input(f'Enter integer {i + 1}: '))\n",
    "    \n",
    "    # Add the current number to the total sum\n",
    "    total += number\n",
    "    \n",
    "    # Multiply the current number with the product\n",
    "    product *= number\n",
    "    \n",
    "    # If this is the first number, set it as both the smallest and largest\n",
    "    if smallest is None or number < smallest:\n",
    "        smallest = number\n",
    "    if largest is None or number > largest:\n",
    "        largest = number\n",
    "\n",
    "# Now that we have all four numbers, calculate the average\n",
    "average = total / 4\n",
    "\n",
    "# Display the results to the user in a clear and friendly format\n",
    "print(f'Sum of the numbers: {total}')\n",
    "print(f'Average of the numbers: {average:.2f}')\n",
    "print(f'Product of the numbers: {product}')\n",
    "print(f'Smallest number: {smallest}')\n",
    "print(f'Largest number: {largest}')\n"
   ]
  },
  {
   "cell_type": "code",
   "execution_count": null,
   "id": "15ccd6c3-9e60-41e7-95bc-4078034fea73",
   "metadata": {},
   "outputs": [],
   "source": []
  }
 ],
 "metadata": {
  "kernelspec": {
   "display_name": "Python 3 (ipykernel)",
   "language": "python",
   "name": "python3"
  },
  "language_info": {
   "codemirror_mode": {
    "name": "ipython",
    "version": 3
   },
   "file_extension": ".py",
   "mimetype": "text/x-python",
   "name": "python",
   "nbconvert_exporter": "python",
   "pygments_lexer": "ipython3",
   "version": "3.12.4"
  }
 },
 "nbformat": 4,
 "nbformat_minor": 5
}
